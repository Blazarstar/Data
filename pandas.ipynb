{
 "cells": [
  {
   "cell_type": "markdown",
   "id": "24733582",
   "metadata": {},
   "source": [
    "## pandas\n"
   ]
  },
  {
   "cell_type": "code",
   "execution_count": 2,
   "id": "8eccd221",
   "metadata": {},
   "outputs": [],
   "source": [
    "import warnings"
   ]
  },
  {
   "cell_type": "code",
   "execution_count": 3,
   "id": "11a0d456",
   "metadata": {},
   "outputs": [],
   "source": [
    "warnings.filterwarnings(\"ignore\")"
   ]
  },
  {
   "cell_type": "code",
   "execution_count": 3,
   "id": "138e351c",
   "metadata": {},
   "outputs": [],
   "source": [
    "import numpy as np\n",
    "import pandas as pd"
   ]
  },
  {
   "cell_type": "markdown",
   "id": "7f3a092e",
   "metadata": {},
   "source": [
    "Series 是带有标签的一维数组，可以保存任何数据类型（整数，字符串，浮点数，Python对象等）,轴标签统称为索引"
   ]
  },
  {
   "cell_type": "code",
   "execution_count": 7,
   "id": "ab1c31ea",
   "metadata": {},
   "outputs": [],
   "source": [
    "s = pd.Series(np.random.rand(5))"
   ]
  },
  {
   "cell_type": "code",
   "execution_count": 9,
   "id": "b283b3c1",
   "metadata": {},
   "outputs": [
    {
     "name": "stdout",
     "output_type": "stream",
     "text": [
      "0    0.314839\n",
      "1    0.952569\n",
      "2    0.767409\n",
      "3    0.581640\n",
      "4    0.643048\n",
      "dtype: float64\n"
     ]
    }
   ],
   "source": [
    "print(s)"
   ]
  },
  {
   "cell_type": "code",
   "execution_count": 12,
   "id": "bafc96b4",
   "metadata": {},
   "outputs": [
    {
     "name": "stdout",
     "output_type": "stream",
     "text": [
      "<class 'pandas.core.series.Series'>\n"
     ]
    }
   ],
   "source": [
    "print(type(s))"
   ]
  },
  {
   "cell_type": "code",
   "execution_count": 14,
   "id": "fa777a1c",
   "metadata": {},
   "outputs": [
    {
     "name": "stdout",
     "output_type": "stream",
     "text": [
      "RangeIndex(start=0, stop=5, step=1) <class 'pandas.core.indexes.range.RangeIndex'>\n"
     ]
    }
   ],
   "source": [
    "print(s.index,type(s.index))"
   ]
  },
  {
   "cell_type": "code",
   "execution_count": 16,
   "id": "d1361ed2",
   "metadata": {},
   "outputs": [
    {
     "name": "stdout",
     "output_type": "stream",
     "text": [
      "[0.31483888 0.95256939 0.76740901 0.58163991 0.64304793] <class 'numpy.ndarray'>\n"
     ]
    }
   ],
   "source": [
    "print(s.values,type(s.values))"
   ]
  },
  {
   "cell_type": "markdown",
   "id": "a843852a",
   "metadata": {},
   "source": [
    "【**笔记**】\n",
    "\n",
    "+ series相比于ndarray，是一个自带索引index的数组 → 一维数组 + 对应索引\n",
    "+ 所以当只看series的值的时候，就是一个ndarray\n",
    "+ series和ndarray较相似，索引切片功能差别不大\n",
    "+ series和dict相比，series更像一个有顺序的字典（dict本身不存在顺序），其索引原理与字典相似（一个用key，一个用index）"
   ]
  },
  {
   "cell_type": "markdown",
   "id": "602cb87d",
   "metadata": {},
   "source": [
    "## series的创建"
   ]
  },
  {
   "cell_type": "markdown",
   "id": "b386261f",
   "metadata": {},
   "source": [
    "method1 :字典创建，字典中的内容与其对应 key->index  value->value"
   ]
  },
  {
   "cell_type": "code",
   "execution_count": 18,
   "id": "68451210",
   "metadata": {},
   "outputs": [
    {
     "name": "stdout",
     "output_type": "stream",
     "text": [
      "a    1\n",
      "b    2\n",
      "c    3\n",
      "dtype: int64\n"
     ]
    }
   ],
   "source": [
    "dic = {'a':1 ,'b':2,'c':3}\n",
    "s = pd.Series(dic)\n",
    "print(s)"
   ]
  },
  {
   "cell_type": "code",
   "execution_count": 19,
   "id": "9339eb8d",
   "metadata": {},
   "outputs": [
    {
     "name": "stdout",
     "output_type": "stream",
     "text": [
      "a        1\n",
      "b    hello\n",
      "c        3\n",
      "4        4\n",
      "5        5\n",
      "dtype: object\n"
     ]
    }
   ],
   "source": [
    "dic2 = {'a':1 ,'b':'hello' , 'c':3, '4':4, '5':5}\n",
    "ss = pd.Series(dic2)\n",
    "print(ss)"
   ]
  },
  {
   "cell_type": "markdown",
   "id": "c481a98c",
   "metadata": {},
   "source": [
    "method2: 一维数组创建"
   ]
  },
  {
   "cell_type": "code",
   "execution_count": 20,
   "id": "175d9d35",
   "metadata": {},
   "outputs": [
    {
     "name": "stdout",
     "output_type": "stream",
     "text": [
      "[ 2.67729885  0.9331024   1.51171995 -2.34931528  0.74816148]\n"
     ]
    }
   ],
   "source": [
    "arr = np.random.randn(5)\n",
    "s = pd.Series(arr)"
   ]
  },
  {
   "cell_type": "code",
   "execution_count": 21,
   "id": "72ce3d3d",
   "metadata": {},
   "outputs": [
    {
     "name": "stdout",
     "output_type": "stream",
     "text": [
      "[ 2.67729885  0.9331024   1.51171995 -2.34931528  0.74816148]\n"
     ]
    }
   ],
   "source": [
    "print(arr)"
   ]
  },
  {
   "cell_type": "code",
   "execution_count": 22,
   "id": "88b348df",
   "metadata": {},
   "outputs": [
    {
     "name": "stdout",
     "output_type": "stream",
     "text": [
      "0    2.677299\n",
      "1    0.933102\n",
      "2    1.511720\n",
      "3   -2.349315\n",
      "4    0.748161\n",
      "dtype: float64\n"
     ]
    }
   ],
   "source": [
    "print(s)"
   ]
  },
  {
   "cell_type": "markdown",
   "id": "ec28fd5f",
   "metadata": {},
   "source": [
    "method3：由标量创建"
   ]
  },
  {
   "cell_type": "code",
   "execution_count": 23,
   "id": "945a23ed",
   "metadata": {},
   "outputs": [],
   "source": [
    "s = pd.Series(10,index = range(4))"
   ]
  },
  {
   "cell_type": "code",
   "execution_count": 24,
   "id": "d701632d",
   "metadata": {},
   "outputs": [
    {
     "name": "stdout",
     "output_type": "stream",
     "text": [
      "0    10\n",
      "1    10\n",
      "2    10\n",
      "3    10\n",
      "dtype: int64\n"
     ]
    }
   ],
   "source": [
    "print(s)"
   ]
  },
  {
   "cell_type": "code",
   "execution_count": 26,
   "id": "b10539e7",
   "metadata": {},
   "outputs": [],
   "source": [
    "s1 = pd.Series(np.random.randn(5))"
   ]
  },
  {
   "cell_type": "code",
   "execution_count": 28,
   "id": "0c35ee1b",
   "metadata": {},
   "outputs": [
    {
     "name": "stdout",
     "output_type": "stream",
     "text": [
      "0   -0.525796\n",
      "1   -0.404097\n",
      "2   -1.374942\n",
      "3    1.151221\n",
      "4   -0.984049\n",
      "dtype: float64\n"
     ]
    }
   ],
   "source": [
    "print(s1)"
   ]
  },
  {
   "cell_type": "code",
   "execution_count": 31,
   "id": "3c0895a9",
   "metadata": {},
   "outputs": [],
   "source": [
    "s2 = pd.Series(np.random.randn(5),name = 'test')"
   ]
  },
  {
   "cell_type": "code",
   "execution_count": 32,
   "id": "f11b91c2",
   "metadata": {},
   "outputs": [
    {
     "name": "stdout",
     "output_type": "stream",
     "text": [
      "0   -0.662761\n",
      "1   -0.452724\n",
      "2    1.841427\n",
      "3    0.465002\n",
      "4   -1.201470\n",
      "Name: test, dtype: float64\n"
     ]
    }
   ],
   "source": [
    "print(s2)"
   ]
  },
  {
   "cell_type": "markdown",
   "id": "ba28528d",
   "metadata": {},
   "source": [
    "对比s1和s2，name为Series的一个参数，即创建一个数组的名称。\n"
   ]
  },
  {
   "cell_type": "markdown",
   "id": "0da0cbd5",
   "metadata": {},
   "source": [
    "## Pandas的索引"
   ]
  },
  {
   "cell_type": "markdown",
   "id": "036209cf",
   "metadata": {},
   "source": [
    "实际就是数据结构Series的索引，包括位置下标/标签索引/切片索引/布尔型索引"
   ]
  },
  {
   "cell_type": "code",
   "execution_count": 34,
   "id": "142d4591",
   "metadata": {},
   "outputs": [
    {
     "name": "stdout",
     "output_type": "stream",
     "text": [
      "0    0.455100\n",
      "1    0.264361\n",
      "2    0.830603\n",
      "3    0.250908\n",
      "4    0.303198\n",
      "dtype: float64\n",
      "0.45510026145066396 <class 'numpy.float64'> float64\n",
      "0.45510026145066396 <class 'float'>\n"
     ]
    }
   ],
   "source": [
    "# 位置下标\n",
    "\n",
    "s = pd.Series(np.random.rand(5))\n",
    "print(s)\n",
    "print(s[0],type(s[0]),s[0].dtype)\n",
    "print(float(s[0]),type(float(s[0])))"
   ]
  },
  {
   "cell_type": "code",
   "execution_count": 4,
   "id": "79c1fa4e",
   "metadata": {},
   "outputs": [
    {
     "name": "stdout",
     "output_type": "stream",
     "text": [
      "a    0.092309\n",
      "b    0.895398\n",
      "c    0.034547\n",
      "d    0.205735\n",
      "e    0.725185\n",
      "dtype: float64\n",
      "0.09230915189898226 <class 'numpy.float64'> float64\n",
      "a    0.092309\n",
      "b    0.895398\n",
      "e    0.725185\n",
      "dtype: float64 <class 'pandas.core.series.Series'>\n"
     ]
    }
   ],
   "source": [
    "# 标签索引\n",
    "\n",
    "s = pd.Series(np.random.rand(5), index = ['a','b','c','d','e'])\n",
    "print(s)\n",
    "print(s['a'],type(s['a']),s['a'].dtype)\n",
    "# 方法类似下标索引，用[]表示，内写上index，注意index是字符串\n",
    "\n",
    "sci = s[['a','b','e']]\n",
    "print(sci,type(sci))\n",
    "# 如果需要选择多个标签的值，用[[]]来表示（相当于[]中包含一个列表）\n",
    "# 多标签索引结果是新的数组"
   ]
  },
  {
   "cell_type": "code",
   "execution_count": 11,
   "id": "c6f63391",
   "metadata": {},
   "outputs": [
    {
     "name": "stdout",
     "output_type": "stream",
     "text": [
      "1    0.889591\n",
      "2    0.203752\n",
      "3    0.661439\n",
      "dtype: float64\n"
     ]
    }
   ],
   "source": [
    "# 切片索引\n",
    "\n",
    "s1 = pd.Series(np.random.rand(5))\n",
    "s2 = pd.Series(np.random.rand(5), index = ['a','b','c','d','e'])\n",
    "print(s1[1:4])"
   ]
  },
  {
   "cell_type": "code",
   "execution_count": 12,
   "id": "f522f2df",
   "metadata": {},
   "outputs": [
    {
     "name": "stdout",
     "output_type": "stream",
     "text": [
      "1    0.491673\n",
      "2    0.671560\n",
      "3    0.215403\n",
      "dtype: float64 0.9809169069537103\n"
     ]
    }
   ],
   "source": [
    "s1 = pd.Series(np.random.rand(5))\n",
    "s2 = pd.Series(np.random.rand(5), index = ['a','b','c','d','e'])\n",
    "print(s1[1:4],s1[4])"
   ]
  },
  {
   "cell_type": "code",
   "execution_count": 13,
   "id": "f24f9c70",
   "metadata": {},
   "outputs": [],
   "source": [
    "# 注意那个末端"
   ]
  },
  {
   "cell_type": "code",
   "execution_count": 8,
   "id": "17f5cda7",
   "metadata": {},
   "outputs": [
    {
     "name": "stdout",
     "output_type": "stream",
     "text": [
      "a    0.272013\n",
      "b    0.939355\n",
      "c    0.517336\n",
      "dtype: float64 0.5173364800417259\n"
     ]
    }
   ],
   "source": [
    "print(s2['a':'c'],s2['c'])"
   ]
  },
  {
   "cell_type": "code",
   "execution_count": 9,
   "id": "879bc63e",
   "metadata": {},
   "outputs": [
    {
     "name": "stdout",
     "output_type": "stream",
     "text": [
      "a    0.272013\n",
      "b    0.939355\n",
      "c    0.517336\n",
      "dtype: float64 0.11326109254905448\n"
     ]
    }
   ],
   "source": [
    "print(s2[0:3],s2[3])\n",
    "# 注意：用index做切片是末端包含"
   ]
  },
  {
   "cell_type": "code",
   "execution_count": 10,
   "id": "191ff88f",
   "metadata": {},
   "outputs": [
    {
     "name": "stdout",
     "output_type": "stream",
     "text": [
      "a    0.272013\n",
      "b    0.939355\n",
      "c    0.517336\n",
      "d    0.113261\n",
      "dtype: float64\n",
      "a    0.272013\n",
      "c    0.517336\n",
      "e    0.669565\n",
      "dtype: float64\n"
     ]
    }
   ],
   "source": [
    "print(s2[:-1])\n",
    "print(s2[::2])\n",
    "# 下标索引做切片，和list写法一样"
   ]
  },
  {
   "cell_type": "code",
   "execution_count": 16,
   "id": "7007ddab",
   "metadata": {},
   "outputs": [
    {
     "name": "stdout",
     "output_type": "stream",
     "text": [
      "0    40.714665\n",
      "1     73.09234\n",
      "2    61.494283\n",
      "4         None\n",
      "dtype: object\n"
     ]
    }
   ],
   "source": [
    "# 布尔型索引\n",
    "\n",
    "s = pd.Series(np.random.rand(3)*100)\n",
    "s[4] = None  # 添加一个空值\n",
    "print(s)\n",
    "bs1 = s > 50\n",
    "bs2 = s.isnull()\n",
    "bs3 = s.notnull()\n"
   ]
  },
  {
   "cell_type": "code",
   "execution_count": 17,
   "id": "3b46e327",
   "metadata": {},
   "outputs": [
    {
     "name": "stdout",
     "output_type": "stream",
     "text": [
      "0    False\n",
      "1     True\n",
      "2     True\n",
      "4    False\n",
      "dtype: bool <class 'pandas.core.series.Series'> bool\n",
      "0    False\n",
      "1    False\n",
      "2    False\n",
      "4     True\n",
      "dtype: bool <class 'pandas.core.series.Series'> bool\n",
      "0     True\n",
      "1     True\n",
      "2     True\n",
      "4    False\n",
      "dtype: bool <class 'pandas.core.series.Series'> bool\n",
      "-----\n",
      "1     73.09234\n",
      "2    61.494283\n",
      "dtype: object\n",
      "0    40.714665\n",
      "1     73.09234\n",
      "2    61.494283\n",
      "dtype: object\n"
     ]
    }
   ],
   "source": [
    "print(bs1, type(bs1), bs1.dtype)\n",
    "print(bs2, type(bs2), bs2.dtype)\n",
    "print(bs3, type(bs3), bs3.dtype)\n",
    "print('-----')\n",
    "# 数组做判断之后，返回的是一个由布尔值组成的新的数组\n",
    "# .isnull() / .notnull() 判断是否为空值 (None代表空值，NaN代表有问题的数值，两个都会识别为空值)\n",
    "\n",
    "print(s[s > 50])\n",
    "print(s[bs3])\n",
    "# 布尔型索引方法：用[判断条件]表示，其中判断条件可以是 一个语句，或者是 一个布尔型数组！"
   ]
  },
  {
   "cell_type": "markdown",
   "id": "c4732c0f",
   "metadata": {},
   "source": [
    "### 基本技巧"
   ]
  },
  {
   "cell_type": "markdown",
   "id": "6554ade1",
   "metadata": {},
   "source": [
    "数据查看 / 重新索引 / 对齐 / 添加、修改、删除值"
   ]
  },
  {
   "cell_type": "code",
   "execution_count": 19,
   "id": "d4cdcd65",
   "metadata": {},
   "outputs": [
    {
     "name": "stdout",
     "output_type": "stream",
     "text": [
      "0    0.116239\n",
      "1    0.499781\n",
      "2    0.233781\n",
      "3    0.670263\n",
      "4    0.187421\n",
      "5    0.219444\n",
      "6    0.001195\n",
      "7    0.577055\n",
      "8    0.812759\n",
      "9    0.135811\n",
      "dtype: float64\n",
      "45    0.610651\n",
      "46    0.935571\n",
      "47    0.659877\n",
      "48    0.227119\n",
      "49    0.202160\n",
      "dtype: float64\n"
     ]
    }
   ],
   "source": [
    "# 数据查看\n",
    "\n",
    "s = pd.Series(np.random.rand(50))\n",
    "print(s.head(10))\n",
    "print(s.tail())\n",
    "# .head()查看头部数据\n",
    "# .tail()查看尾部数据\n",
    "# 默认查看5条"
   ]
  },
  {
   "cell_type": "code",
   "execution_count": 20,
   "id": "7e2c1e17",
   "metadata": {},
   "outputs": [
    {
     "name": "stdout",
     "output_type": "stream",
     "text": [
      "a    0.543052\n",
      "b    0.557972\n",
      "c    0.011613\n",
      "dtype: float64\n",
      "c    0.011613\n",
      "b    0.557972\n",
      "a    0.543052\n",
      "d         NaN\n",
      "dtype: float64\n",
      "c    0.011613\n",
      "b    0.557972\n",
      "a    0.543052\n",
      "d    0.000000\n",
      "dtype: float64\n"
     ]
    }
   ],
   "source": [
    "# 重新索引reindex\n",
    "# .reindex将会根据索引重新排序，如果当前索引不存在，则引入缺失值\n",
    "\n",
    "s = pd.Series(np.random.rand(3), index = ['a','b','c'])\n",
    "print(s)\n",
    "s1 = s.reindex(['c','b','a','d'])\n",
    "print(s1)\n",
    "# .reindex()中也是写列表\n",
    "# 这里'd'索引不存在，所以值为NaN\n",
    "\n",
    "s2 = s.reindex(['c','b','a','d'], fill_value = 0)\n",
    "print(s2)\n",
    "# fill_value参数：填充缺失值的值"
   ]
  },
  {
   "cell_type": "code",
   "execution_count": 21,
   "id": "9dcc9699",
   "metadata": {},
   "outputs": [
    {
     "name": "stdout",
     "output_type": "stream",
     "text": [
      "Jack     0.927868\n",
      "Marry    0.576595\n",
      "Tom      0.143847\n",
      "dtype: float64\n",
      "Wang     0.092869\n",
      "Jack     0.700244\n",
      "Marry    0.239781\n",
      "dtype: float64\n",
      "Jack     1.628112\n",
      "Marry    0.816376\n",
      "Tom           NaN\n",
      "Wang          NaN\n",
      "dtype: float64\n"
     ]
    }
   ],
   "source": [
    "# Series对齐\n",
    "\n",
    "s1 = pd.Series(np.random.rand(3), index = ['Jack','Marry','Tom'])\n",
    "s2 = pd.Series(np.random.rand(3), index = ['Wang','Jack','Marry'])\n",
    "print(s1)\n",
    "print(s2)\n",
    "print(s1+s2)\n",
    "# Series 和 ndarray 之间的主要区别是，Series 上的操作会根据标签自动对齐\n",
    "# index顺序不会影响数值计算，以标签来计算\n",
    "# 空值和任何值计算结果扔为空值"
   ]
  },
  {
   "cell_type": "code",
   "execution_count": 22,
   "id": "a1a937d2",
   "metadata": {},
   "outputs": [
    {
     "name": "stdout",
     "output_type": "stream",
     "text": [
      "n    0.794806\n",
      "g    0.191842\n",
      "j    0.594468\n",
      "u    0.569662\n",
      "r    0.166968\n",
      "dtype: float64\n",
      "g    0.191842\n",
      "j    0.594468\n",
      "u    0.569662\n",
      "r    0.166968\n",
      "dtype: float64\n",
      "n    0.794806\n",
      "u    0.569662\n",
      "r    0.166968\n",
      "dtype: float64\n",
      "n    0.794806\n",
      "g    0.191842\n",
      "j    0.594468\n",
      "u    0.569662\n",
      "r    0.166968\n",
      "dtype: float64\n"
     ]
    }
   ],
   "source": [
    "# 删除：.drop\n",
    "\n",
    "s = pd.Series(np.random.rand(5), index = list('ngjur'))\n",
    "print(s)\n",
    "s1 = s.drop('n')\n",
    "s2 = s.drop(['g','j'])\n",
    "print(s1)\n",
    "print(s2)\n",
    "print(s)\n",
    "# drop 删除元素之后返回副本(inplace=False)"
   ]
  },
  {
   "cell_type": "code",
   "execution_count": 23,
   "id": "33d78ea4",
   "metadata": {},
   "outputs": [
    {
     "name": "stdout",
     "output_type": "stream",
     "text": [
      "0    0.806326\n",
      "1    0.186228\n",
      "2    0.344511\n",
      "3    0.339121\n",
      "4    0.329818\n",
      "dtype: float64\n",
      "n    0.415032\n",
      "g    0.105471\n",
      "j    0.497815\n",
      "u    0.019201\n",
      "r    0.757879\n",
      "dtype: float64\n",
      "0      0.806326\n",
      "1      0.186228\n",
      "2      0.344511\n",
      "3      0.339121\n",
      "4      0.329818\n",
      "5    100.000000\n",
      "dtype: float64\n",
      "n      0.415032\n",
      "g      0.105471\n",
      "j      0.497815\n",
      "u      0.019201\n",
      "r      0.757879\n",
      "a    100.000000\n",
      "dtype: float64\n",
      "-----\n",
      "0      0.806326\n",
      "1      0.186228\n",
      "2      0.344511\n",
      "3      0.339121\n",
      "4      0.329818\n",
      "5    100.000000\n",
      "n      0.415032\n",
      "g      0.105471\n",
      "j      0.497815\n",
      "u      0.019201\n",
      "r      0.757879\n",
      "a    100.000000\n",
      "dtype: float64\n",
      "0      0.806326\n",
      "1      0.186228\n",
      "2      0.344511\n",
      "3      0.339121\n",
      "4      0.329818\n",
      "5    100.000000\n",
      "dtype: float64\n"
     ]
    }
   ],
   "source": [
    "# 添加\n",
    "\n",
    "s1 = pd.Series(np.random.rand(5))\n",
    "s2 = pd.Series(np.random.rand(5), index = list('ngjur'))\n",
    "print(s1)\n",
    "print(s2)\n",
    "s1[5] = 100\n",
    "s2['a'] = 100\n",
    "print(s1)\n",
    "print(s2)\n",
    "print('-----')\n",
    "# 直接通过下标索引/标签index添加值\n",
    "\n",
    "s3 = s1.append(s2)\n",
    "print(s3)\n",
    "print(s1)\n",
    "# 通过.append方法，直接添加一个数组\n",
    "# .append方法生成一个新的数组，不改变之前的数组"
   ]
  },
  {
   "cell_type": "code",
   "execution_count": 24,
   "id": "1fdafe71",
   "metadata": {},
   "outputs": [
    {
     "name": "stdout",
     "output_type": "stream",
     "text": [
      "a    0.920579\n",
      "b    0.189254\n",
      "c    0.194963\n",
      "dtype: float64\n",
      "a    100.0\n",
      "b    200.0\n",
      "c    200.0\n",
      "dtype: float64\n"
     ]
    }
   ],
   "source": [
    "# 修改\n",
    "\n",
    "s = pd.Series(np.random.rand(3), index = ['a','b','c'])\n",
    "print(s)\n",
    "s['a'] = 100\n",
    "s[['b','c']] = 200\n",
    "print(s)\n",
    "# 通过索引直接修改，类似序列\n"
   ]
  },
  {
   "cell_type": "code",
   "execution_count": null,
   "id": "cbf550be",
   "metadata": {},
   "outputs": [],
   "source": []
  },
  {
   "cell_type": "code",
   "execution_count": null,
   "id": "5388c97e",
   "metadata": {},
   "outputs": [],
   "source": []
  }
 ],
 "metadata": {
  "kernelspec": {
   "display_name": "Python 3",
   "language": "python",
   "name": "python3"
  },
  "language_info": {
   "codemirror_mode": {
    "name": "ipython",
    "version": 3
   },
   "file_extension": ".py",
   "mimetype": "text/x-python",
   "name": "python",
   "nbconvert_exporter": "python",
   "pygments_lexer": "ipython3",
   "version": "3.8.8"
  }
 },
 "nbformat": 4,
 "nbformat_minor": 5
}
